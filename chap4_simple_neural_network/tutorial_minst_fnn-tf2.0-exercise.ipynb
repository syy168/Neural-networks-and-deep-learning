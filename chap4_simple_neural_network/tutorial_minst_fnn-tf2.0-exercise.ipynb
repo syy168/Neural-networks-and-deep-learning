{
 "cells": [
  {
   "cell_type": "markdown",
   "metadata": {},
   "source": [
    "## 准备数据"
   ]
  },
  {
   "cell_type": "code",
   "execution_count": null,
   "metadata": {},
   "outputs": [],
   "source": [
    "import os\n",
    "import numpy as np\n",
    "import tensorflow as tf\n",
    "from tensorflow import keras\n",
    "from tensorflow.keras import layers, optimizers, datasets\n",
    "\n",
    "os.environ['TF_CPP_MIN_LOG_LEVEL'] = '2'  # or any {'0', '1', '2'}\n",
    "\n",
    "def mnist_dataset():\n",
    "    (x, y), (x_test, y_test) = datasets.mnist.load_data()\n",
    "    #normalize\n",
    "    x = x/255.0\n",
    "    x_test = x_test/255.0\n",
    "    \n",
    "    return (x, y), (x_test, y_test)"
   ]
  },
  {
   "cell_type": "code",
   "execution_count": 5,
   "metadata": {},
   "outputs": [
    {
     "name": "stdout",
     "output_type": "stream",
     "text": [
      "[(1, 'a'), (2, 'b'), (3, 'c'), (4, 'd')]\n"
     ]
    }
   ],
   "source": [
    "print(list(zip([1, 2, 3, 4], ['a', 'b', 'c', 'd'])))"
   ]
  },
  {
   "cell_type": "markdown",
   "metadata": {},
   "source": [
    "## 建立模型"
   ]
  },
  {
   "cell_type": "code",
   "execution_count": 6,
   "metadata": {},
   "outputs": [],
   "source": [
    "class myModel:\n",
    "    def __init__(self):\n",
    "        ####################\n",
    "        '''声明模型对应的参数'''\n",
    "        ####################\n",
    "        self.W1 = tf.Variable(tf.random.normal([28*28+1, 100]))  \n",
    "        self.W2 = tf.Variable(tf.random.normal([100, 10]))\n",
    "        self.b1 = tf.Variable(np.zeros(100), dtype=tf.float32)  # 使用 tf.Variable 来定义偏置项 b1\n",
    "        self.b2 = tf.Variable(np.zeros(10), dtype=tf.float32)  \n",
    "        \n",
    "        \n",
    "        \n",
    "        \n",
    "        \n",
    "    def __call__(self, x):\n",
    "        ####################\n",
    "        '''实现模型函数体，返回未归一化的logits'''\n",
    "        ####################\n",
    "        x = tf.reshape(x, [-1, 28*28])  # 展平每个图像\n",
    "        bias = tf.ones(shape=[x.shape[0], 1], dtype=tf.float32)  # 生成偏置项\n",
    "        x = tf.concat([x, bias], axis=1)  # 将偏置项拼接到输入\n",
    "        \n",
    "        self.h1 = tf.matmul(x, self.W1)+self.b1 # shape(5, 4)\n",
    "        self.h1_relu = tf.nn.relu(self.h1)\n",
    "        self.h2 = tf.matmul(self.h1_relu, self.W2)+self.b2\n",
    "        return self.h2\n",
    "        \n",
    "model = myModel()\n",
    "optimizer = optimizers.Adam()"
   ]
  },
  {
   "cell_type": "markdown",
   "metadata": {},
   "source": [
    "## 计算 loss"
   ]
  },
  {
   "cell_type": "code",
   "execution_count": 7,
   "metadata": {},
   "outputs": [],
   "source": [
    "@tf.function\n",
    "def compute_loss(logits, labels):\n",
    "    return tf.reduce_mean(\n",
    "        tf.nn.sparse_softmax_cross_entropy_with_logits(\n",
    "            logits=logits, labels=labels))\n",
    "\n",
    "@tf.function\n",
    "def compute_accuracy(logits, labels):\n",
    "    predictions = tf.argmax(logits, axis=1)\n",
    "    return tf.reduce_mean(tf.cast(tf.equal(predictions, labels), tf.float32))\n",
    "\n",
    "@tf.function\n",
    "def train_one_step(model, optimizer, x, y):\n",
    "    with tf.GradientTape() as tape:\n",
    "        logits = model(x)\n",
    "        loss = compute_loss(logits, y)\n",
    "\n",
    "    # compute gradient\n",
    "    trainable_vars = [model.W1, model.W2, model.b1, model.b2]\n",
    "    grads = tape.gradient(loss, trainable_vars)\n",
    "    for g, v in zip(grads, trainable_vars):\n",
    "        v.assign_sub(0.01*g)\n",
    "\n",
    "    accuracy = compute_accuracy(logits, y)\n",
    "\n",
    "    # loss and accuracy is scalar tensor\n",
    "    return loss, accuracy\n",
    "\n",
    "@tf.function\n",
    "def test(model, x, y):\n",
    "    logits = model(x)\n",
    "    loss = compute_loss(logits, y)\n",
    "    accuracy = compute_accuracy(logits, y)\n",
    "    return loss, accuracy"
   ]
  },
  {
   "cell_type": "markdown",
   "metadata": {},
   "source": [
    "## 实际训练"
   ]
  },
  {
   "cell_type": "code",
   "execution_count": 8,
   "metadata": {},
   "outputs": [
    {
     "name": "stdout",
     "output_type": "stream",
     "text": [
      "epoch 0 : loss 145.14337 ; accuracy 0.101616666\n",
      "epoch 1 : loss 125.35512 ; accuracy 0.10896666\n",
      "epoch 2 : loss 112.016014 ; accuracy 0.11625\n",
      "epoch 3 : loss 102.329956 ; accuracy 0.12165\n",
      "epoch 4 : loss 94.76663 ; accuracy 0.123966664\n",
      "epoch 5 : loss 88.51399 ; accuracy 0.12625\n",
      "epoch 6 : loss 83.15317 ; accuracy 0.12708333\n",
      "epoch 7 : loss 78.46095 ; accuracy 0.12878333\n",
      "epoch 8 : loss 74.302155 ; accuracy 0.12993333\n",
      "epoch 9 : loss 70.61248 ; accuracy 0.13125\n",
      "epoch 10 : loss 67.34032 ; accuracy 0.13181667\n",
      "epoch 11 : loss 64.45048 ; accuracy 0.134\n",
      "epoch 12 : loss 61.903965 ; accuracy 0.1359\n",
      "epoch 13 : loss 59.6561 ; accuracy 0.13851666\n",
      "epoch 14 : loss 57.66418 ; accuracy 0.14173333\n",
      "epoch 15 : loss 55.88426 ; accuracy 0.14601667\n",
      "epoch 16 : loss 54.27765 ; accuracy 0.15025\n",
      "epoch 17 : loss 52.803493 ; accuracy 0.15473333\n",
      "epoch 18 : loss 51.438274 ; accuracy 0.15901667\n",
      "epoch 19 : loss 50.16747 ; accuracy 0.16341667\n",
      "epoch 20 : loss 48.97705 ; accuracy 0.16863333\n",
      "epoch 21 : loss 47.860092 ; accuracy 0.17375\n",
      "epoch 22 : loss 46.811783 ; accuracy 0.17881666\n",
      "epoch 23 : loss 45.82465 ; accuracy 0.18383333\n",
      "epoch 24 : loss 44.894356 ; accuracy 0.18945\n",
      "epoch 25 : loss 44.016617 ; accuracy 0.19438334\n",
      "epoch 26 : loss 43.185574 ; accuracy 0.19983333\n",
      "epoch 27 : loss 42.398674 ; accuracy 0.20446667\n",
      "epoch 28 : loss 41.653038 ; accuracy 0.21041666\n",
      "epoch 29 : loss 40.945366 ; accuracy 0.21563333\n",
      "epoch 30 : loss 40.270493 ; accuracy 0.22078334\n",
      "epoch 31 : loss 39.624557 ; accuracy 0.2259\n",
      "epoch 32 : loss 39.00415 ; accuracy 0.23051667\n",
      "epoch 33 : loss 38.40689 ; accuracy 0.23568334\n",
      "epoch 34 : loss 37.830334 ; accuracy 0.2404\n",
      "epoch 35 : loss 37.272205 ; accuracy 0.24535\n",
      "epoch 36 : loss 36.731216 ; accuracy 0.25003332\n",
      "epoch 37 : loss 36.206432 ; accuracy 0.25551668\n",
      "epoch 38 : loss 35.69676 ; accuracy 0.2603\n",
      "epoch 39 : loss 35.201176 ; accuracy 0.265\n",
      "epoch 40 : loss 34.718807 ; accuracy 0.26971668\n",
      "epoch 41 : loss 34.248863 ; accuracy 0.27411667\n",
      "epoch 42 : loss 33.79069 ; accuracy 0.27856666\n",
      "epoch 43 : loss 33.34388 ; accuracy 0.28328332\n",
      "epoch 44 : loss 32.908215 ; accuracy 0.28765\n",
      "epoch 45 : loss 32.483463 ; accuracy 0.292\n",
      "epoch 46 : loss 32.069252 ; accuracy 0.29671666\n",
      "epoch 47 : loss 31.665274 ; accuracy 0.30118334\n",
      "epoch 48 : loss 31.27117 ; accuracy 0.30546665\n",
      "epoch 49 : loss 30.8865 ; accuracy 0.30946666\n",
      "test loss 29.404278 ; accuracy 0.3299\n"
     ]
    }
   ],
   "source": [
    "train_data, test_data = mnist_dataset()\n",
    "for epoch in range(50):\n",
    "    loss, accuracy = train_one_step(model, optimizer, \n",
    "                                    tf.constant(train_data[0], dtype=tf.float32), \n",
    "                                    tf.constant(train_data[1], dtype=tf.int64))\n",
    "    print('epoch', epoch, ': loss', loss.numpy(), '; accuracy', accuracy.numpy())\n",
    "loss, accuracy = test(model, \n",
    "                      tf.constant(test_data[0], dtype=tf.float32), \n",
    "                      tf.constant(test_data[1], dtype=tf.int64))\n",
    "\n",
    "print('test loss', loss.numpy(), '; accuracy', accuracy.numpy())"
   ]
  }
 ],
 "metadata": {
  "kernelspec": {
   "display_name": "deeplearn_env",
   "language": "python",
   "name": "python3"
  },
  "language_info": {
   "codemirror_mode": {
    "name": "ipython",
    "version": 3
   },
   "file_extension": ".py",
   "mimetype": "text/x-python",
   "name": "python",
   "nbconvert_exporter": "python",
   "pygments_lexer": "ipython3",
   "version": "3.10.16"
  }
 },
 "nbformat": 4,
 "nbformat_minor": 2
}
