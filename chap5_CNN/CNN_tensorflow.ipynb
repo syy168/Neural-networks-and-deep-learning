{
 "cells": [
  {
   "cell_type": "code",
   "execution_count": 6,
   "metadata": {},
   "outputs": [],
   "source": [
    "# %pip uninstall tensorflow\n",
    "# %pip install tensorflow==1.14.0"
   ]
  },
  {
   "cell_type": "code",
   "execution_count": 4,
   "metadata": {
    "collapsed": true
   },
   "outputs": [],
   "source": [
    "import tensorflow as tf\n",
    "from tensorflow.keras.datasets import mnist\n",
    "\n",
    "learning_rate = 1e-4\n",
    "keep_prob_rate = 0.7\n",
    "max_epoch = 3\n",
    "batch_size = 100\n",
    "\n"
   ]
  },
  {
   "cell_type": "code",
   "execution_count": 5,
   "metadata": {},
   "outputs": [
    {
     "name": "stdout",
     "output_type": "stream",
     "text": [
      "Epoch 1/3\n",
      "\u001b[1m600/600\u001b[0m \u001b[32m━━━━━━━━━━━━━━━━━━━━\u001b[0m\u001b[37m\u001b[0m \u001b[1m21s\u001b[0m 34ms/step - accuracy: 0.8076 - loss: 0.7492 - val_accuracy: 0.9646 - val_loss: 0.1161\n",
      "Epoch 2/3\n",
      "\u001b[1m600/600\u001b[0m \u001b[32m━━━━━━━━━━━━━━━━━━━━\u001b[0m\u001b[37m\u001b[0m \u001b[1m20s\u001b[0m 33ms/step - accuracy: 0.9663 - loss: 0.1161 - val_accuracy: 0.9793 - val_loss: 0.0661\n",
      "Epoch 3/3\n",
      "\u001b[1m600/600\u001b[0m \u001b[32m━━━━━━━━━━━━━━━━━━━━\u001b[0m\u001b[37m\u001b[0m \u001b[1m19s\u001b[0m 32ms/step - accuracy: 0.9779 - loss: 0.0728 - val_accuracy: 0.9823 - val_loss: 0.0521\n"
     ]
    },
    {
     "data": {
      "text/plain": [
       "<keras.src.callbacks.history.History at 0x2b137984e20>"
      ]
     },
     "execution_count": 5,
     "metadata": {},
     "output_type": "execute_result"
    }
   ],
   "source": [
    "\n",
    "\n",
    "(x_train, y_train), (x_test, y_test) = mnist.load_data()\n",
    "x_train, x_test = x_train / 255.0, x_test / 255.0\n",
    "y_train = tf.keras.utils.to_categorical(y_train, 10)\n",
    "y_test = tf.keras.utils.to_categorical(y_test, 10)\n",
    "\n",
    "\n",
    "\n",
    "\n",
    "# 构建CNN模型\n",
    "cnn = tf.keras.Sequential([\n",
    "    tf.keras.layers.Reshape(target_shape=(28, 28, 1), input_shape=(28, 28)),\n",
    "    tf.keras.layers.Conv2D(32, (7, 7), padding='same', activation='relu'),\n",
    "    tf.keras.layers.MaxPooling2D((2, 2), strides=2, padding='same'),\n",
    "    tf.keras.layers.Conv2D(64, (5, 5), padding='same', activation='relu'),\n",
    "    tf.keras.layers.MaxPooling2D((2, 2), strides=2, padding='same'),\n",
    "    tf.keras.layers.Flatten(),\n",
    "    tf.keras.layers.Dense(1024, activation='relu'),\n",
    "    tf.keras.layers.Dropout(1 - keep_prob_rate),\n",
    "    tf.keras.layers.Dense(10, activation='softmax')\n",
    "])\n",
    "\n",
    "\n",
    "cnn.compile(optimizer=tf.keras.optimizers.Adam(learning_rate=learning_rate),\n",
    "            loss='categorical_crossentropy',\n",
    "            metrics=['accuracy'])\n",
    "\n",
    "train_dataset = tf.data.Dataset.from_tensor_slices((x_train, y_train))\\\n",
    "    .shuffle(60000, reshuffle_each_iteration=True)\\\n",
    "    .batch(batch_size)\n",
    "\n",
    "\n",
    "cnn.fit(train_dataset, epochs=max_epoch, validation_data=(x_test, y_test))"
   ]
  },
  {
   "cell_type": "code",
   "execution_count": null,
   "metadata": {},
   "outputs": [],
   "source": []
  },
  {
   "cell_type": "code",
   "execution_count": null,
   "metadata": {},
   "outputs": [],
   "source": []
  }
 ],
 "metadata": {
  "anaconda-cloud": {},
  "kernelspec": {
   "display_name": "deeplearn_env",
   "language": "python",
   "name": "python3"
  },
  "language_info": {
   "codemirror_mode": {
    "name": "ipython",
    "version": 3
   },
   "file_extension": ".py",
   "mimetype": "text/x-python",
   "name": "python",
   "nbconvert_exporter": "python",
   "pygments_lexer": "ipython3",
   "version": "3.10.16"
  }
 },
 "nbformat": 4,
 "nbformat_minor": 1
}
